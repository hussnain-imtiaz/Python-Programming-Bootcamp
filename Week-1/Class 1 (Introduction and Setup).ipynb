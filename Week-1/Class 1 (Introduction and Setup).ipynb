{
 "cells": [
  {
   "cell_type": "markdown",
   "id": "existing-pollution",
   "metadata": {},
   "source": [
    "# Welcome to the Course !!! 👋  \n",
    "  \n",
    "  \n",
    "  \n",
    "I am really happy to see you in the class. I know you are excited 🤩 (you should be) and I really appreciate your enthusiasm for learning `Python` with me.  \n",
    "  \n",
    "Throughout this course we are going to learn python from zero to the advance level in a very fun and interactive way.    \n",
    "\n",
    "We will be doing a bunch of class activities, coding exercises, projects and HomeWorks (lol ! I know this one is boring 😆).   \n",
    "But, the only thing I need from you is the willingness of learning and asking questions again and again. \n",
    "  \n",
    "Well, thats enough for the introduction I think, Let's Hack the Python now 💪.    \n",
    "\n",
    "## Class Overview\n",
    "  \n",
    "This class will provide a high-level view of the Python Programming language. Before writing any code, you should have a general sense of the language and of programming in general.\n",
    "\n",
    "The following lessons will start with the basics. There is no assumption that you already know how to program or that you have a background in computer science. It is not required that you have a technical background at all. \n",
    "\n",
    "We will be talking about compilers and interpreters and we will see how and where we can write our python programs.\n",
    "\n",
    "#### Learning Objectives:  \n",
    "  \n",
    "* What is a programming language ? & How it works?  \n",
    "* Difference between Interpreter and compiler\n",
    "* History of python. \n",
    "* Difference between Python 2 vs Python 3\n",
    "* How does actually python works?\n",
    "* Online Python Interpreters \n",
    "* Installing Everything on our machine (Optional)\n",
    "* Say Hello to the world. :)\n"
   ]
  },
  {
   "cell_type": "markdown",
   "id": "detailed-relief",
   "metadata": {},
   "source": [
    "## What is a programming language ? & How it works? \n",
    "Programming is giving a set of instructions to a computer to execute. If you’ve ever cooked using a recipe before, you can think of yourself as the computer and the recipe’s author as a programmer. The recipe author provides you with a set of instructions which you read and then follow. The more complex the instructions, the more complex the result!   - Codecademy.  \n",
    "See an interesting Explaination here: https://www.youtube.com/watch?v=EGQh5SZctaE\n",
    "  \n",
    "<img src=\"https://news.codecademy.com/content/images/size/w1600/2020/07/what-is-a-programming-language.png\">  \n",
    "\n",
    "\n",
    "  \n",
    "### High vs Low level Language:\n",
    "The low-level language is a programming language that provides no abstraction from the hardware, and it is represented in 0 or 1 forms, which are the machine instructions. The languages that come under this category are the Machine level language and Assembly language.  \n",
    "  \n",
    "The high-level language is a programming language that allows a programmer to write the programs which are independent of a particular type of computer. The high-level languages are considered as high-level because they are closer to human languages than machine-level languages. Guess the examples of high level languages?  \n",
    "\n",
    "<img src=\"https://learntocodewith.me/wp-content/uploads/2014/04/high-to-low-level-languages-231x300.png\">  "
   ]
  },
  {
   "cell_type": "markdown",
   "id": "dedicated-reference",
   "metadata": {},
   "source": [
    "## Difference between Interpreter and compiler\n",
    "An interpreted language is one in which instructions are exectued sequentially. Python is just one example of an interpreted language. The Python interpreter reads your code line-by-line, executing instructions as it reads. If the interpreter finds an error, your program will crash immediately upon the execution of the offending instruction.\n",
    "\n",
    "To see the Python interpreter in action, visit this repl  and run the code example therein. https://repl.it/languages/python3\n",
    "\n",
    "### Compilers\n",
    "The topic of compilers is vast, complex, and far outside the scope of this lesson. What you should know right now is that compiled languages are \"translated\" into a target language (like assembly or machine code) before running. If any errors exist in your program, the compiler will fail and your code won't be able to run until all of the errors are fixed. The general workflow when writing in a language that needs to be compiled looks like this:\n",
    "\n",
    "1. Write/edit code\n",
    "2. Compile code\n",
    "3. Run the compiled executable\n",
    "As you can imagine, these multiple steps make it a bit more time-consuming to diagnose errors. However, compiled languages tend to be faster as they are usually better tuned for the specific hardware environment in which they run.  \n",
    "\n",
    "  \n",
    "<img src=\"https://www.guru99.com/images/1/053018_0616_CompilervsI1.png\">  "
   ]
  },
  {
   "cell_type": "markdown",
   "id": "aboriginal-display",
   "metadata": {},
   "source": [
    "## How does actually python works?\n",
    "\n",
    "Python is an object oriented programming language like Java. Python is called an interpreted language. Python uses code modules that are interchangeable instead of a single long list of instructions that was standard for functional programming languages. The standard implementation of python is called “cpython”. It is the default and widely used implementation of the Python.\n",
    "Python doesn’t convert its code into machine code, something that hardware can understand. It actually converts it into something called byte code. So within python, compilation happens, but it’s just not into a machine language. It is into byte code and this byte code can’t be understood by CPU. So we need actually an interpreter called the python virtual machine. The python virtual machine executes the byte codes.    \n",
    "  \n",
    "<img src='https://media.geeksforgeeks.org/wp-content/uploads/python_working.png'>  \n",
    "  \n",
    "The Python interpreter performs following tasks to execute a Python program :\n",
    "\n",
    "* Step 1 : The interpreter reads a python code or instruction. Then it verifies that the instruction is well formatted, i.e. it checks the syntax of each line.If it encounters any error, it immediately halts the translation and shows an error message.\n",
    "* Step 2 : If there is no error, i.e. if the python instruction or code is well formatted then the interpreter translates it into its equivalent form in intermediate language called “Byte code”.Thus, after successful execution of Python script or code, it is completely translated into Byte code.\n",
    "* Step 3 : Byte code is sent to the Python Virtual Machine(PVM).Here again the byte code is executed on PVM.If an error occurs during this execution then the execution is halted with an error message.\n",
    "  \n",
    "  \n",
    "`Resourses taken by: geeksforgeeks`"
   ]
  },
  {
   "cell_type": "markdown",
   "id": "statutory-running",
   "metadata": {},
   "source": [
    "## Say Hello to the world"
   ]
  },
  {
   "cell_type": "code",
   "execution_count": 2,
   "id": "latin-length",
   "metadata": {},
   "outputs": [
    {
     "name": "stdout",
     "output_type": "stream",
     "text": [
      "Hello World! 👋 \n"
     ]
    }
   ],
   "source": [
    "print('Hello World! 👋 ')"
   ]
  },
  {
   "cell_type": "code",
   "execution_count": null,
   "id": "binding-procedure",
   "metadata": {},
   "outputs": [],
   "source": []
  }
 ],
 "metadata": {
  "kernelspec": {
   "display_name": "Python 3",
   "language": "python",
   "name": "python3"
  },
  "language_info": {
   "codemirror_mode": {
    "name": "ipython",
    "version": 3
   },
   "file_extension": ".py",
   "mimetype": "text/x-python",
   "name": "python",
   "nbconvert_exporter": "python",
   "pygments_lexer": "ipython3",
   "version": "3.6.12"
  }
 },
 "nbformat": 4,
 "nbformat_minor": 5
}
