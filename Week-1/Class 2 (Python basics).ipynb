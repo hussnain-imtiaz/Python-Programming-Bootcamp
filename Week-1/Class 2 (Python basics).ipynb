{
 "cells": [
  {
   "cell_type": "markdown",
   "id": "acting-salad",
   "metadata": {},
   "source": [
    "### Object and Data Structures in Python:\n",
    "\n",
    "* What is an object?    \n",
    "\n",
    " An object is simply a collection of data  \n",
    " \n",
    " \n",
    "* Data Structures:    \n",
    "\n",
    " Each data structure provides a particular way of organizing data so it can be accessed efficiently, depending on your use case.\n",
    "\n",
    "  \n",
    "#### 1. Numbers    \n",
    "\n",
    "\n",
    "  \n",
    "We'll learn about the following topics:\n",
    "\n",
    "1. Types of Numbers in Python\n",
    "2. Basic Arithmetic\n",
    "3. Differences between classic division and floor division\n",
    "4. Object Assignment in Python  "
   ]
  },
  {
   "cell_type": "markdown",
   "id": "smaller-springer",
   "metadata": {},
   "source": [
    "#### Types of numbers\n",
    "\n",
    "Python has various \"types\" of numbers (numeric literals). We'll mainly focus on integers and floating point numbers.\n",
    "\n",
    "Integers are just whole numbers, positive or negative. For example: 2 and -2 are examples of integers.\n",
    "\n",
    "Floating point numbers in Python are notable because they have a decimal point in them, or use an exponential (e) to define the number. For example 2.0 and -2.1 are examples of floating point numbers. 4E2 (4 times 10 to the power of 2) is also an example of a floating point number in Python.\n",
    "\n",
    "Throughout this course we will be mainly working with integers or simple float number types.\n",
    "\n",
    "Here is a table of the two main types we will spend most of our time working with some examples:"
   ]
  },
  {
   "cell_type": "markdown",
   "id": "mature-subsection",
   "metadata": {},
   "source": [
    "<table>\n",
    "<tr>\n",
    "    <th>Examples</th> \n",
    "    <th>Number \"Type\"</th>\n",
    "</tr>\n",
    "\n",
    "<tr>\n",
    "    <td>1,2,-5,1000</td>\n",
    "    <td>Integers</td> \n",
    "</tr>\n",
    "\n",
    "<tr>\n",
    "    <td>1.2,-0.5,2e2,3E2</td> \n",
    "    <td>Floating-point numbers</td> \n",
    "</tr>\n",
    " </table>"
   ]
  },
  {
   "cell_type": "markdown",
   "id": "figured-wrestling",
   "metadata": {},
   "source": [
    "#### Basic Arithmetics"
   ]
  },
  {
   "cell_type": "code",
   "execution_count": 2,
   "id": "after-absence",
   "metadata": {},
   "outputs": [
    {
     "name": "stdout",
     "output_type": "stream",
     "text": [
      "40\n"
     ]
    }
   ],
   "source": [
    "#Addition\n",
    "print(23 + 17)"
   ]
  },
  {
   "cell_type": "code",
   "execution_count": 3,
   "id": "academic-printing",
   "metadata": {},
   "outputs": [
    {
     "data": {
      "text/plain": [
       "11"
      ]
     },
     "execution_count": 3,
     "metadata": {},
     "output_type": "execute_result"
    }
   ],
   "source": [
    "#Subtraction\n",
    "34-23"
   ]
  },
  {
   "cell_type": "code",
   "execution_count": 4,
   "id": "handmade-nirvana",
   "metadata": {},
   "outputs": [
    {
     "data": {
      "text/plain": [
       "4"
      ]
     },
     "execution_count": 4,
     "metadata": {},
     "output_type": "execute_result"
    }
   ],
   "source": [
    "#Multiplication\n",
    "2*2"
   ]
  },
  {
   "cell_type": "code",
   "execution_count": 5,
   "id": "funded-basement",
   "metadata": {},
   "outputs": [
    {
     "data": {
      "text/plain": [
       "1.0"
      ]
     },
     "execution_count": 5,
     "metadata": {},
     "output_type": "execute_result"
    }
   ],
   "source": [
    "#Division\n",
    "4/4"
   ]
  },
  {
   "cell_type": "code",
   "execution_count": 6,
   "id": "sublime-bruce",
   "metadata": {},
   "outputs": [
    {
     "data": {
      "text/plain": [
       "1"
      ]
     },
     "execution_count": 6,
     "metadata": {},
     "output_type": "execute_result"
    }
   ],
   "source": [
    "# Floor Division\n",
    "4//4"
   ]
  },
  {
   "cell_type": "code",
   "execution_count": 8,
   "id": "viral-immune",
   "metadata": {},
   "outputs": [
    {
     "data": {
      "text/plain": [
       "float"
      ]
     },
     "execution_count": 8,
     "metadata": {},
     "output_type": "execute_result"
    }
   ],
   "source": [
    "type(1.0)"
   ]
  },
  {
   "cell_type": "code",
   "execution_count": 9,
   "id": "challenging-silicon",
   "metadata": {},
   "outputs": [
    {
     "data": {
      "text/plain": [
       "5.0"
      ]
     },
     "execution_count": 9,
     "metadata": {},
     "output_type": "execute_result"
    }
   ],
   "source": [
    "2+3.0"
   ]
  },
  {
   "cell_type": "markdown",
   "id": "grave-gospel",
   "metadata": {},
   "source": [
    "The // operator (two forward slashes) truncates the decimal without rounding, and returns an integer result."
   ]
  },
  {
   "cell_type": "code",
   "execution_count": 10,
   "id": "hindu-gates",
   "metadata": {},
   "outputs": [
    {
     "data": {
      "text/plain": [
       "3"
      ]
     },
     "execution_count": 10,
     "metadata": {},
     "output_type": "execute_result"
    }
   ],
   "source": [
    "## Modulo\n",
    "7 % 4"
   ]
  },
  {
   "cell_type": "markdown",
   "id": "rocky-customer",
   "metadata": {},
   "source": [
    "4 goes into 7 once, with a remainder of 3. The % operator returns the remainder after division.\n"
   ]
  },
  {
   "cell_type": "code",
   "execution_count": 11,
   "id": "administrative-comment",
   "metadata": {},
   "outputs": [
    {
     "data": {
      "text/plain": [
       "0"
      ]
     },
     "execution_count": 11,
     "metadata": {},
     "output_type": "execute_result"
    }
   ],
   "source": [
    "## Multiple arithmetics in one line\n",
    "( 2 + 4)-(3 * 2)"
   ]
  },
  {
   "cell_type": "code",
   "execution_count": null,
   "id": "intermediate-quarter",
   "metadata": {},
   "outputs": [],
   "source": []
  },
  {
   "cell_type": "markdown",
   "id": "noble-moldova",
   "metadata": {},
   "source": [
    "## Variable Assignments\n",
    "\n",
    "Now that we've seen how to use numbers in Python as a calculator let's see how we can assign names and create variables.    \n",
    "\n",
    "Variable assignment follows name = object, where a single equals sign = is an assignment operator.   \n",
    "  \n",
    "  \n",
    "We use a single equals sign to assign labels to variables. Let's see a few examples of how we can do this."
   ]
  },
  {
   "cell_type": "code",
   "execution_count": 17,
   "id": "sorted-antigua",
   "metadata": {},
   "outputs": [],
   "source": [
    "# Let's create an object called \"a\" and assign it the number 5\n",
    "salary = 100\n",
    "f1 = 23.4"
   ]
  },
  {
   "cell_type": "code",
   "execution_count": 13,
   "id": "convinced-arlington",
   "metadata": {},
   "outputs": [
    {
     "data": {
      "text/plain": [
       "57.4"
      ]
     },
     "execution_count": 13,
     "metadata": {},
     "output_type": "execute_result"
    }
   ],
   "source": [
    "# Adding the objects\n",
    "n1 + f1"
   ]
  },
  {
   "cell_type": "code",
   "execution_count": 15,
   "id": "brave-access",
   "metadata": {},
   "outputs": [],
   "source": [
    "# Reassignment\n",
    "salary = 120"
   ]
  },
  {
   "cell_type": "code",
   "execution_count": 18,
   "id": "japanese-interest",
   "metadata": {},
   "outputs": [],
   "source": [
    "updated_sal=120"
   ]
  },
  {
   "cell_type": "code",
   "execution_count": 19,
   "id": "cloudy-proposition",
   "metadata": {},
   "outputs": [
    {
     "name": "stdout",
     "output_type": "stream",
     "text": [
      "100\n"
     ]
    }
   ],
   "source": [
    "print(salary)"
   ]
  },
  {
   "cell_type": "markdown",
   "id": "posted-potter",
   "metadata": {},
   "source": [
    "There's actually a shortcut for this. Python lets you add, subtract, multiply and divide numbers with reassignment using +=, -=, *=, and /=."
   ]
  },
  {
   "cell_type": "code",
   "execution_count": 24,
   "id": "included-peeing",
   "metadata": {},
   "outputs": [],
   "source": [
    "salary /= updated_sal"
   ]
  },
  {
   "cell_type": "code",
   "execution_count": 25,
   "id": "accessible-referral",
   "metadata": {},
   "outputs": [
    {
     "data": {
      "text/plain": [
       "1.8333333333333333"
      ]
     },
     "execution_count": 25,
     "metadata": {},
     "output_type": "execute_result"
    }
   ],
   "source": [
    "salary"
   ]
  },
  {
   "cell_type": "code",
   "execution_count": null,
   "id": "radical-union",
   "metadata": {},
   "outputs": [],
   "source": [
    "# printing a number object"
   ]
  },
  {
   "cell_type": "code",
   "execution_count": null,
   "id": "floral-estimate",
   "metadata": {},
   "outputs": [],
   "source": [
    "# determining the type of a variable"
   ]
  },
  {
   "cell_type": "markdown",
   "id": "palestinian-visibility",
   "metadata": {},
   "source": [
    "#### Some rules for naming the variables\n",
    "\n",
    "The names you use when creating these labels need to follow a few rules:\n",
    "\n",
    "1. Names can not start with a number.\n",
    "2. There can be no spaces in the name, use _ instead.\n",
    "3. Can't use any of these symbols :'\",<>/?|\\()!@#$%^&*~-+\n",
    "4. It's considered best practice (PEP8) that names are lowercase.\n",
    "5. Avoid using the characters 'l' (lowercase letter el), 'O' (uppercase letter oh), \n",
    "   or 'I' (uppercase letter eye) as single character variable names.\n",
    "6. Avoid using words that have special meaning in Python like \"list\" and \"str\""
   ]
  },
  {
   "cell_type": "markdown",
   "id": "assured-colonial",
   "metadata": {},
   "source": [
    "Using variable names can be a very useful way to keep track of different variables in Python. For example:"
   ]
  },
  {
   "cell_type": "code",
   "execution_count": 29,
   "id": "given-karma",
   "metadata": {},
   "outputs": [],
   "source": [
    "PI = 3.14"
   ]
  },
  {
   "cell_type": "code",
   "execution_count": 32,
   "id": "marine-roots",
   "metadata": {},
   "outputs": [],
   "source": [
    "n_1=10"
   ]
  },
  {
   "cell_type": "code",
   "execution_count": 31,
   "id": "stable-conducting",
   "metadata": {},
   "outputs": [
    {
     "ename": "TypeError",
     "evalue": "'int' object is not callable",
     "output_type": "error",
     "traceback": [
      "\u001b[1;31m---------------------------------------------------------------------------\u001b[0m",
      "\u001b[1;31mTypeError\u001b[0m                                 Traceback (most recent call last)",
      "\u001b[1;32m<ipython-input-31-5eee19fcfbb4>\u001b[0m in \u001b[0;36m<module>\u001b[1;34m\u001b[0m\n\u001b[1;32m----> 1\u001b[1;33m \u001b[0mtype\u001b[0m\u001b[1;33m(\u001b[0m\u001b[1;36m0\u001b[0m\u001b[1;33m)\u001b[0m\u001b[1;33m\u001b[0m\u001b[1;33m\u001b[0m\u001b[0m\n\u001b[0m",
      "\u001b[1;31mTypeError\u001b[0m: 'int' object is not callable"
     ]
    }
   ],
   "source": []
  },
  {
   "cell_type": "code",
   "execution_count": 33,
   "id": "authentic-neutral",
   "metadata": {},
   "outputs": [],
   "source": [
    "# Use object names to keep better track of what's going on in your code!\n",
    "my_income = 100\n",
    "\n",
    "tax_rate = 0.1\n",
    "\n",
    "my_taxes = my_income*tax_rate"
   ]
  },
  {
   "cell_type": "code",
   "execution_count": 34,
   "id": "virgin-circle",
   "metadata": {},
   "outputs": [
    {
     "name": "stdout",
     "output_type": "stream",
     "text": [
      "10.0\n"
     ]
    }
   ],
   "source": [
    "# Show my taxes!\n",
    "print(my_taxes)"
   ]
  },
  {
   "cell_type": "markdown",
   "id": "structural-obligation",
   "metadata": {},
   "source": [
    "#### Advanced Numbers and some methods"
   ]
  },
  {
   "cell_type": "code",
   "execution_count": 38,
   "id": "corresponding-kernel",
   "metadata": {},
   "outputs": [
    {
     "data": {
      "text/plain": [
       "16"
      ]
     },
     "execution_count": 38,
     "metadata": {},
     "output_type": "execute_result"
    }
   ],
   "source": [
    "# Powers\n",
    "2**4"
   ]
  },
  {
   "cell_type": "code",
   "execution_count": null,
   "id": "decimal-producer",
   "metadata": {},
   "outputs": [],
   "source": [
    "# with pow()\n",
    "pow(2.4,4)"
   ]
  },
  {
   "cell_type": "code",
   "execution_count": 41,
   "id": "ordered-writer",
   "metadata": {},
   "outputs": [
    {
     "data": {
      "text/plain": [
       "2.0"
      ]
     },
     "execution_count": 41,
     "metadata": {},
     "output_type": "execute_result"
    }
   ],
   "source": [
    "# Roots\n",
    "4**0.5"
   ]
  },
  {
   "cell_type": "markdown",
   "id": "moral-occupation",
   "metadata": {},
   "source": [
    "BDMAS Rule"
   ]
  },
  {
   "cell_type": "code",
   "execution_count": 42,
   "id": "creative-programmer",
   "metadata": {},
   "outputs": [
    {
     "data": {
      "text/plain": [
       "8.0"
      ]
     },
     "execution_count": 42,
     "metadata": {},
     "output_type": "execute_result"
    }
   ],
   "source": [
    "# Operator precedence\n",
    "(2*2) + 8 / 2"
   ]
  },
  {
   "cell_type": "code",
   "execution_count": null,
   "id": "closing-blanket",
   "metadata": {},
   "outputs": [],
   "source": [
    "# Can use parentheses to specify orders"
   ]
  },
  {
   "cell_type": "code",
   "execution_count": 43,
   "id": "tired-printer",
   "metadata": {},
   "outputs": [],
   "source": [
    "# solving complex equation\n",
    "lenght=2\n",
    "width= 3\n",
    "area= lenght * width"
   ]
  },
  {
   "cell_type": "code",
   "execution_count": 44,
   "id": "fancy-virtue",
   "metadata": {},
   "outputs": [
    {
     "data": {
      "text/plain": [
       "6"
      ]
     },
     "execution_count": 44,
     "metadata": {},
     "output_type": "execute_result"
    }
   ],
   "source": [
    "area"
   ]
  },
  {
   "cell_type": "code",
   "execution_count": 45,
   "id": "smart-league",
   "metadata": {},
   "outputs": [
    {
     "data": {
      "text/plain": [
       "45"
      ]
     },
     "execution_count": 45,
     "metadata": {},
     "output_type": "execute_result"
    }
   ],
   "source": [
    "# abstract numbers\n",
    "abs(-45)"
   ]
  },
  {
   "cell_type": "code",
   "execution_count": 46,
   "id": "changing-canadian",
   "metadata": {},
   "outputs": [
    {
     "data": {
      "text/plain": [
       "4.33"
      ]
     },
     "execution_count": 46,
     "metadata": {},
     "output_type": "execute_result"
    }
   ],
   "source": [
    "# Round\n",
    "round(4.333333333, 2)"
   ]
  },
  {
   "cell_type": "code",
   "execution_count": 47,
   "id": "young-mississippi",
   "metadata": {},
   "outputs": [
    {
     "ename": "TypeError",
     "evalue": "'int' object is not callable",
     "output_type": "error",
     "traceback": [
      "\u001b[1;31m---------------------------------------------------------------------------\u001b[0m",
      "\u001b[1;31mTypeError\u001b[0m                                 Traceback (most recent call last)",
      "\u001b[1;32m<ipython-input-47-5ccb76861282>\u001b[0m in \u001b[0;36m<module>\u001b[1;34m\u001b[0m\n\u001b[0;32m      1\u001b[0m \u001b[1;31m# type of a number\u001b[0m\u001b[1;33m\u001b[0m\u001b[1;33m\u001b[0m\u001b[1;33m\u001b[0m\u001b[0m\n\u001b[1;32m----> 2\u001b[1;33m \u001b[0mtype\u001b[0m\u001b[1;33m(\u001b[0m\u001b[1;36m34\u001b[0m\u001b[1;33m)\u001b[0m\u001b[1;33m\u001b[0m\u001b[1;33m\u001b[0m\u001b[0m\n\u001b[0m",
      "\u001b[1;31mTypeError\u001b[0m: 'int' object is not callable"
     ]
    }
   ],
   "source": [
    "# type of a number\n",
    "type()"
   ]
  },
  {
   "cell_type": "markdown",
   "id": "female-state",
   "metadata": {},
   "source": [
    "## Assignment-1 Numbers and methods\n",
    "\n",
    "Hey, you are learning so great and now here just check your knowledge. Can you please solve the challange below?  \n",
    "If you solve this one then you will get free 15 minutes for class with me (Lol! Just kidding)😜  \n",
    "\n",
    "`So the problem is: `   \n",
    "*As you know computers only understand zeros and ones (binary numbers), SO I have my password for loging in into the computer But unfortunately it is an integer. Could you please help me in finding out the binary form of my password??? It is 245786.*\n",
    "\n",
    "`hint:` You can use any number operation or method but dont forget to give my password a name(variable)"
   ]
  },
  {
   "cell_type": "code",
   "execution_count": null,
   "id": "equal-infrared",
   "metadata": {},
   "outputs": [],
   "source": []
  },
  {
   "cell_type": "code",
   "execution_count": null,
   "id": "pharmaceutical-wages",
   "metadata": {},
   "outputs": [],
   "source": []
  },
  {
   "cell_type": "markdown",
   "id": "meaningful-gibraltar",
   "metadata": {},
   "source": [
    "## Assignment-2 Numbers,Variables and methods  \n",
    "\n",
    "Write a Python program to calculate the area of a trapezoid. It should must be rounded to 3 decimal points.\n",
    "  \n",
    "`hint`: A trapezoid is a quadrilateral with two sides parallel. The trapezoid is equivalent to the British definition of the trapezium. An isosceles trapezoid is a trapezoid in which the base angles are equal so.  \n",
    "  \n",
    "`Test Data`:  \n",
    "Height : 5.525  \n",
    "Base, first value : 1496  \n",
    "Base, second value : 25    "
   ]
  },
  {
   "cell_type": "code",
   "execution_count": null,
   "id": "intimate-provision",
   "metadata": {},
   "outputs": [],
   "source": []
  },
  {
   "cell_type": "code",
   "execution_count": null,
   "id": "fatal-nursery",
   "metadata": {},
   "outputs": [],
   "source": []
  }
 ],
 "metadata": {
  "kernelspec": {
   "display_name": "Python 3",
   "language": "python",
   "name": "python3"
  },
  "language_info": {
   "codemirror_mode": {
    "name": "ipython",
    "version": 3
   },
   "file_extension": ".py",
   "mimetype": "text/x-python",
   "name": "python",
   "nbconvert_exporter": "python",
   "pygments_lexer": "ipython3",
   "version": "3.6.12"
  }
 },
 "nbformat": 4,
 "nbformat_minor": 5
}
